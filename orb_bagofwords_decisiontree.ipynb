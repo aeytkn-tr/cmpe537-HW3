{
 "cells": [
  {
   "cell_type": "code",
   "execution_count": 2,
   "id": "controversial-ireland",
   "metadata": {},
   "outputs": [],
   "source": [
    "from feature_extraction.orb import ORB\n",
    "import os\n",
    "\n",
    "import cv2\n",
    "from matplotlib import pyplot as plt\n",
    "\n",
    "from sklearn.cluster import KMeans\n",
    "\n",
    "DATA_PATH=\"../data/Caltech20\"\n",
    "TRAINING_DIR=os.path.join(DATA_PATH, \"training\")\n",
    "TEST_DIR=os.path.join(DATA_PATH, \"testing\")\n",
    "\n",
    "classes = []\n",
    "\n",
    "features = {}\n",
    "all_descriptor = []\n",
    "\n",
    "for class_name in sorted(os.listdir(TRAINING_DIR)):\n",
    "    classes.append(class_name)\n",
    "    features[class_name] = {}\n",
    "    class_dir = os.path.join(TRAINING_DIR, class_name)\n",
    "    for file_name in sorted(os.listdir(class_dir)):\n",
    "        filename = os.path.join(class_dir, file_name)\n",
    "        kp, des = ORB.compute_file(filename)\n",
    "        if des is not None:\n",
    "            des = des[:32]\n",
    "            features[class_name][file_name] = des\n",
    "            all_descriptor.extend(des)"
   ]
  },
  {
   "cell_type": "code",
   "execution_count": 3,
   "id": "corresponding-celebration",
   "metadata": {},
   "outputs": [],
   "source": [
    "kmeans = KMeans(10)\n",
    "kmeans.fit(all_descriptor)\n",
    "centers = kmeans.cluster_centers_"
   ]
  },
  {
   "cell_type": "code",
   "execution_count": 5,
   "id": "affected-aggregate",
   "metadata": {},
   "outputs": [],
   "source": [
    "from feature_quantization.bag_of_visual_words import get_histogram\n",
    "\n",
    "histograms = {}\n",
    "for c_name in features:\n",
    "    histograms[c_name] = []\n",
    "    for img in features[c_name]:\n",
    "        histograms[c_name].append(get_histogram(features[c_name][img], centers))"
   ]
  },
  {
   "cell_type": "code",
   "execution_count": 6,
   "id": "elder-capability",
   "metadata": {},
   "outputs": [
    {
     "output_type": "execute_result",
     "data": {
      "text/plain": [
       "array([2., 1., 5., 4., 1., 0., 5., 4., 5., 5.])"
      ]
     },
     "metadata": {},
     "execution_count": 6
    }
   ],
   "source": [
    "histograms['airplanes'][0]"
   ]
  },
  {
   "cell_type": "code",
   "execution_count": 7,
   "id": "gothic-microwave",
   "metadata": {},
   "outputs": [],
   "source": [
    "X = []\n",
    "Y = []\n",
    "for c in histograms:\n",
    "    X.extend(histograms[c])\n",
    "    Y.extend([c] * len(histograms[c]))\n",
    "    "
   ]
  },
  {
   "cell_type": "code",
   "execution_count": 8,
   "id": "impossible-affiliate",
   "metadata": {},
   "outputs": [
    {
     "output_type": "execute_result",
     "data": {
      "text/plain": [
       "DecisionTreeClassifier()"
      ]
     },
     "metadata": {},
     "execution_count": 8
    }
   ],
   "source": [
    "from sklearn.tree import DecisionTreeClassifier\n",
    "\n",
    "classifier = DecisionTreeClassifier()\n",
    "classifier.fit(X, Y)\n"
   ]
  },
  {
   "cell_type": "code",
   "execution_count": 10,
   "id": "substantial-frost",
   "metadata": {},
   "outputs": [
    {
     "output_type": "execute_result",
     "data": {
      "text/plain": [
       "0.07105263157894737"
      ]
     },
     "metadata": {},
     "execution_count": 10
    }
   ],
   "source": [
    "test_classes = []\n",
    "test_features = {}\n",
    "\n",
    "testX = []\n",
    "testY = []\n",
    "\n",
    "for class_name in sorted(os.listdir(TEST_DIR)):\n",
    "    class_dir = os.path.join(TEST_DIR, class_name)\n",
    "    for file_name in sorted(os.listdir(class_dir)):\n",
    "        filename = os.path.join(class_dir, file_name)\n",
    "        kp, des = ORB.compute_file(filename)\n",
    "        if des is not None:\n",
    "            des = des[:32]\n",
    "            histogram = get_histogram(des, centers)\n",
    "            testX.append(histogram)\n",
    "            testY.append(class_name)\n",
    "\n",
    "classifier.score(testX, testY)"
   ]
  }
 ],
 "metadata": {
  "kernelspec": {
   "display_name": "Python 3",
   "language": "python",
   "name": "python3"
  },
  "language_info": {
   "codemirror_mode": {
    "name": "ipython",
    "version": 3
   },
   "file_extension": ".py",
   "mimetype": "text/x-python",
   "name": "python",
   "nbconvert_exporter": "python",
   "pygments_lexer": "ipython3",
   "version": "3.8.2-final"
  }
 },
 "nbformat": 4,
 "nbformat_minor": 5
}